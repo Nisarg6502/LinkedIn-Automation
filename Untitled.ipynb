{
 "cells": [
  {
   "cell_type": "code",
   "execution_count": 1,
   "id": "863019af",
   "metadata": {},
   "outputs": [],
   "source": [
    "from selenium import webdriver\n",
    "from selenium.webdriver.common.keys import Keys\n",
    "from selenium.webdriver.support import expected_conditions as EC\n",
    "from selenium.webdriver.common.by import By\n",
    "from selenium.webdriver.support.wait import WebDriverWait\n",
    "import time "
   ]
  },
  {
   "cell_type": "code",
   "execution_count": 2,
   "id": "64956b3d",
   "metadata": {},
   "outputs": [
    {
     "name": "stderr",
     "output_type": "stream",
     "text": [
      "/tmp/ipykernel_23512/2898224457.py:2: DeprecationWarning: executable_path has been deprecated, please pass in a Service object\n",
      "  driver = webdriver.Chrome(\"/usr/lib/chromium-browser/chromedriver\")\n"
     ]
    }
   ],
   "source": [
    "#used to define browser on which to operate\n",
    "driver = webdriver.Chrome(\"/usr/lib/chromium-browser/chromedriver\")\n",
    "#diff for windows\n",
    "\n",
    "#To open new window\n",
    "driver.get(\"https://linkedin.com\")"
   ]
  },
  {
   "cell_type": "code",
   "execution_count": 3,
   "id": "a579e28c",
   "metadata": {},
   "outputs": [],
   "source": [
    "#adding delay so that automation runs after the page has loaded entirely\n",
    "time.sleep(2)\n",
    "\n",
    "#setting up elements and finding their path\n",
    "username = driver.find_element(By.XPATH,\"//input[@name='session_key']\")\n",
    "password = driver.find_element(By.XPATH,\"//input[@name='session_password']\")\n",
    "\n",
    "username.send_keys(\"nisarg6502@gmail.com\")\n",
    "password.send_keys(\"Humnabad123\")\n",
    "\n",
    "time.sleep(2)\n",
    "\n",
    "submit = driver.find_element(By.XPATH,\"//button[@type='submit']\").click()\n",
    "\n",
    "#because new webpage will be opened\n",
    "time.sleep(2)"
   ]
  },
  {
   "cell_type": "code",
   "execution_count": 7,
   "id": "da583c4c",
   "metadata": {},
   "outputs": [],
   "source": [
    "driver.get(\"https://www.linkedin.com/search/results/people/?network=%5B%22F%22%5D&origin=FACETED_SEARCH&sid=Xk%2C\")\n",
    "time.sleep(2)\n",
    "\n",
    "#To find button element\n",
    "all_buttons = driver.find_elements(By.TAG_NAME, \"button\")\n",
    "#only select Message Buttons\n",
    "message_buttons = [btn for btn in all_buttons if btn.text == \"Message\"]\n",
    "\n",
    "message_buttons[0].click()\n",
    "time.sleep(2)\n",
    "\n",
    "#the div of the paragraph has to be clicked to get activated\n",
    "main_div=driver.find_element(By.XPATH, \"//div[starts-with(@class, 'msg-form__msg-content-container')]\")\n",
    "main_div.click()\n",
    "\n",
    "paragraphs = driver.find_elements(By.TAG_NAME, \"p\")\n",
    "paragraphs[-5].send_keys(\"Hello\")\n",
    "\n",
    "time.sleep(2)\n",
    "\n",
    "#send message button\n",
    "send_message = driver.find_element(By.XPATH, \"//button[@class='msg-form__send-button artdeco-button artdeco-button--1']\")\n",
    "send_message.click()\n"
   ]
  },
  {
   "cell_type": "code",
   "execution_count": 34,
   "id": "c4690109",
   "metadata": {},
   "outputs": [
    {
     "name": "stdout",
     "output_type": "stream",
     "text": [
      "\n"
     ]
    }
   ],
   "source": [
    "# paragraphs = driver.find_elements(By.TAG_NAME, \"p\")\n",
    "\n",
    "# print(paragraphs[-5].text)\n",
    "\n",
    "# counter = 0\n",
    "\n",
    "# for p in paragraphs:\n",
    "#     print(counter)\n",
    "#     print(p.text)\n",
    "#     counter +=1"
   ]
  },
  {
   "cell_type": "code",
   "execution_count": null,
   "id": "25d3d196",
   "metadata": {},
   "outputs": [],
   "source": []
  }
 ],
 "metadata": {
  "kernelspec": {
   "display_name": "Python 3 (ipykernel)",
   "language": "python",
   "name": "python3"
  },
  "language_info": {
   "codemirror_mode": {
    "name": "ipython",
    "version": 3
   },
   "file_extension": ".py",
   "mimetype": "text/x-python",
   "name": "python",
   "nbconvert_exporter": "python",
   "pygments_lexer": "ipython3",
   "version": "3.8.10"
  }
 },
 "nbformat": 4,
 "nbformat_minor": 5
}
