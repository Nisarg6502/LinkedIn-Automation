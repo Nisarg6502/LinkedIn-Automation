{
 "cells": [
  {
   "cell_type": "code",
   "execution_count": 25,
   "id": "863019af",
   "metadata": {},
   "outputs": [],
   "source": [
    "from selenium import webdriver\n",
    "from selenium.webdriver.common.keys import Keys\n",
    "from selenium.webdriver.support import expected_conditions as EC\n",
    "from selenium.webdriver.common.by import By\n",
    "from selenium.webdriver.support.wait import WebDriverWait\n",
    "import time "
   ]
  },
  {
   "cell_type": "code",
   "execution_count": 29,
   "id": "64956b3d",
   "metadata": {},
   "outputs": [
    {
     "name": "stderr",
     "output_type": "stream",
     "text": [
      "/tmp/ipykernel_16052/2898224457.py:2: DeprecationWarning: executable_path has been deprecated, please pass in a Service object\n",
      "  driver = webdriver.Chrome(\"/usr/lib/chromium-browser/chromedriver\")\n"
     ]
    }
   ],
   "source": [
    "#used to define browser on which to operate\n",
    "driver = webdriver.Chrome(\"/usr/lib/chromium-browser/chromedriver\")\n",
    "#diff for windows\n",
    "\n",
    "#To open new window\n",
    "driver.get(\"https://linkedin.com\")"
   ]
  },
  {
   "cell_type": "code",
   "execution_count": 31,
   "id": "a579e28c",
   "metadata": {},
   "outputs": [
    {
     "ename": "NoSuchElementException",
     "evalue": "Message: no such element: Unable to locate element: {\"method\":\"xpath\",\"selector\":\"//input[@name='session_key']\"}\n  (Session info: chrome=107.0.5304.87)\nStacktrace:\n#0 0x558c75b643a3 <unknown>\n#1 0x558c75940698 <unknown>\n#2 0x558c7597caca <unknown>\n#3 0x558c7597cce1 <unknown>\n#4 0x558c759b8df4 <unknown>\n#5 0x558c7599e50d <unknown>\n#6 0x558c759b6950 <unknown>\n#7 0x558c7599e3d3 <unknown>\n#8 0x558c7596e9ce <unknown>\n#9 0x558c7596fd51 <unknown>\n#10 0x558c75baa7b6 <unknown>\n#11 0x558c75bacd8e <unknown>\n#12 0x558c75bad58d <unknown>\n#13 0x558c75b93d7e <unknown>\n#14 0x558c75badc7c <unknown>\n#15 0x558c75b877a8 <unknown>\n#16 0x558c75bc8e58 <unknown>\n#17 0x558c75bc8ff8 <unknown>\n#18 0x558c75be36d8 <unknown>\n#19 0x7f537dd81609 <unknown>\n",
     "output_type": "error",
     "traceback": [
      "\u001b[0;31m---------------------------------------------------------------------------\u001b[0m",
      "\u001b[0;31mNoSuchElementException\u001b[0m                    Traceback (most recent call last)",
      "Cell \u001b[0;32mIn [31], line 5\u001b[0m\n\u001b[1;32m      2\u001b[0m time\u001b[38;5;241m.\u001b[39msleep(\u001b[38;5;241m2\u001b[39m)\n\u001b[1;32m      4\u001b[0m \u001b[38;5;66;03m#setting up elements and finding their path\u001b[39;00m\n\u001b[0;32m----> 5\u001b[0m username \u001b[38;5;241m=\u001b[39m \u001b[43mdriver\u001b[49m\u001b[38;5;241;43m.\u001b[39;49m\u001b[43mfind_element\u001b[49m\u001b[43m(\u001b[49m\u001b[43mBy\u001b[49m\u001b[38;5;241;43m.\u001b[39;49m\u001b[43mXPATH\u001b[49m\u001b[43m,\u001b[49m\u001b[38;5;124;43m\"\u001b[39;49m\u001b[38;5;124;43m//input[@name=\u001b[39;49m\u001b[38;5;124;43m'\u001b[39;49m\u001b[38;5;124;43msession_key\u001b[39;49m\u001b[38;5;124;43m'\u001b[39;49m\u001b[38;5;124;43m]\u001b[39;49m\u001b[38;5;124;43m\"\u001b[39;49m\u001b[43m)\u001b[49m\n\u001b[1;32m      6\u001b[0m password \u001b[38;5;241m=\u001b[39m driver\u001b[38;5;241m.\u001b[39mfind_element(By\u001b[38;5;241m.\u001b[39mXPATH,\u001b[38;5;124m\"\u001b[39m\u001b[38;5;124m//input[@name=\u001b[39m\u001b[38;5;124m'\u001b[39m\u001b[38;5;124msession_password\u001b[39m\u001b[38;5;124m'\u001b[39m\u001b[38;5;124m]\u001b[39m\u001b[38;5;124m\"\u001b[39m)\n\u001b[1;32m      8\u001b[0m username\u001b[38;5;241m.\u001b[39msend_keys(\u001b[38;5;124m\"\u001b[39m\u001b[38;5;124mnisarg6502@gmail.com\u001b[39m\u001b[38;5;124m\"\u001b[39m)\n",
      "File \u001b[0;32m~/.local/lib/python3.8/site-packages/selenium/webdriver/remote/webdriver.py:1251\u001b[0m, in \u001b[0;36mfind_element\u001b[0;34m(self, by, value)\u001b[0m\n\u001b[1;32m   1249\u001b[0m \u001b[38;5;129m@required_virtual_authenticator\u001b[39m\n\u001b[1;32m   1250\u001b[0m \u001b[38;5;28;01mdef\u001b[39;00m \u001b[38;5;21mget_credentials\u001b[39m(\u001b[38;5;28mself\u001b[39m) \u001b[38;5;241m-\u001b[39m\u001b[38;5;241m>\u001b[39m List[Credential]:\n\u001b[0;32m-> 1251\u001b[0m     \u001b[38;5;124;03m\"\"\"\u001b[39;00m\n\u001b[1;32m   1252\u001b[0m \u001b[38;5;124;03m    Returns the list of credentials owned by the authenticator.\u001b[39;00m\n\u001b[1;32m   1253\u001b[0m \u001b[38;5;124;03m    \"\"\"\u001b[39;00m\n\u001b[1;32m   1254\u001b[0m     credential_data \u001b[38;5;241m=\u001b[39m \u001b[38;5;28mself\u001b[39m\u001b[38;5;241m.\u001b[39mexecute(Command\u001b[38;5;241m.\u001b[39mGET_CREDENTIALS, {\u001b[38;5;124m\"\u001b[39m\u001b[38;5;124mauthenticatorId\u001b[39m\u001b[38;5;124m\"\u001b[39m: \u001b[38;5;28mself\u001b[39m\u001b[38;5;241m.\u001b[39m_authenticator_id})\n\u001b[1;32m   1255\u001b[0m     \u001b[38;5;28;01mreturn\u001b[39;00m [Credential\u001b[38;5;241m.\u001b[39mfrom_dict(credential) \u001b[38;5;28;01mfor\u001b[39;00m credential \u001b[38;5;129;01min\u001b[39;00m credential_data[\u001b[38;5;124m\"\u001b[39m\u001b[38;5;124mvalue\u001b[39m\u001b[38;5;124m\"\u001b[39m]]\n",
      "File \u001b[0;32m~/.local/lib/python3.8/site-packages/selenium/webdriver/remote/webdriver.py:430\u001b[0m, in \u001b[0;36mexecute\u001b[0;34m(self, driver_command, params)\u001b[0m\n\u001b[1;32m    423\u001b[0m \u001b[38;5;28;01mdef\u001b[39;00m \u001b[38;5;21mexecute\u001b[39m(\u001b[38;5;28mself\u001b[39m, driver_command: \u001b[38;5;28mstr\u001b[39m, params: \u001b[38;5;28mdict\u001b[39m \u001b[38;5;241m=\u001b[39m \u001b[38;5;28;01mNone\u001b[39;00m) \u001b[38;5;241m-\u001b[39m\u001b[38;5;241m>\u001b[39m \u001b[38;5;28mdict\u001b[39m:\n\u001b[1;32m    424\u001b[0m     \u001b[38;5;124;03m\"\"\"\u001b[39;00m\n\u001b[1;32m    425\u001b[0m \u001b[38;5;124;03m    Sends a command to be executed by a command.CommandExecutor.\u001b[39;00m\n\u001b[1;32m    426\u001b[0m \n\u001b[1;32m    427\u001b[0m \u001b[38;5;124;03m    :Args:\u001b[39;00m\n\u001b[1;32m    428\u001b[0m \u001b[38;5;124;03m     - driver_command: The name of the command to execute as a string.\u001b[39;00m\n\u001b[1;32m    429\u001b[0m \u001b[38;5;124;03m     - params: A dictionary of named parameters to send with the command.\u001b[39;00m\n\u001b[0;32m--> 430\u001b[0m \n\u001b[1;32m    431\u001b[0m \u001b[38;5;124;03m    :Returns:\u001b[39;00m\n\u001b[1;32m    432\u001b[0m \u001b[38;5;124;03m      The command's JSON response loaded into a dictionary object.\u001b[39;00m\n\u001b[1;32m    433\u001b[0m \u001b[38;5;124;03m    \"\"\"\u001b[39;00m\n\u001b[1;32m    434\u001b[0m     params \u001b[38;5;241m=\u001b[39m \u001b[38;5;28mself\u001b[39m\u001b[38;5;241m.\u001b[39m_wrap_value(params)\n\u001b[1;32m    436\u001b[0m     \u001b[38;5;28;01mif\u001b[39;00m \u001b[38;5;28mself\u001b[39m\u001b[38;5;241m.\u001b[39msession_id:\n",
      "File \u001b[0;32m~/.local/lib/python3.8/site-packages/selenium/webdriver/remote/errorhandler.py:247\u001b[0m, in \u001b[0;36mcheck_response\u001b[0;34m(self, response)\u001b[0m\n\u001b[1;32m    245\u001b[0m         alert_text \u001b[38;5;241m=\u001b[39m value[\u001b[38;5;124m\"\u001b[39m\u001b[38;5;124mdata\u001b[39m\u001b[38;5;124m\"\u001b[39m]\u001b[38;5;241m.\u001b[39mget(\u001b[38;5;124m\"\u001b[39m\u001b[38;5;124mtext\u001b[39m\u001b[38;5;124m\"\u001b[39m)\n\u001b[1;32m    246\u001b[0m     \u001b[38;5;28;01melif\u001b[39;00m \u001b[38;5;124m\"\u001b[39m\u001b[38;5;124malert\u001b[39m\u001b[38;5;124m\"\u001b[39m \u001b[38;5;129;01min\u001b[39;00m value:\n\u001b[0;32m--> 247\u001b[0m         alert_text \u001b[38;5;241m=\u001b[39m value[\u001b[38;5;124m\"\u001b[39m\u001b[38;5;124malert\u001b[39m\u001b[38;5;124m\"\u001b[39m]\u001b[38;5;241m.\u001b[39mget(\u001b[38;5;124m\"\u001b[39m\u001b[38;5;124mtext\u001b[39m\u001b[38;5;124m\"\u001b[39m)\n\u001b[1;32m    248\u001b[0m     \u001b[38;5;28;01mraise\u001b[39;00m exception_class(message, screen, stacktrace, alert_text)  \u001b[38;5;66;03m# type: ignore[call-arg]  # mypy is not smart enough here\u001b[39;00m\n\u001b[1;32m    249\u001b[0m \u001b[38;5;28;01mraise\u001b[39;00m exception_class(message, screen, stacktrace)\n",
      "\u001b[0;31mNoSuchElementException\u001b[0m: Message: no such element: Unable to locate element: {\"method\":\"xpath\",\"selector\":\"//input[@name='session_key']\"}\n  (Session info: chrome=107.0.5304.87)\nStacktrace:\n#0 0x558c75b643a3 <unknown>\n#1 0x558c75940698 <unknown>\n#2 0x558c7597caca <unknown>\n#3 0x558c7597cce1 <unknown>\n#4 0x558c759b8df4 <unknown>\n#5 0x558c7599e50d <unknown>\n#6 0x558c759b6950 <unknown>\n#7 0x558c7599e3d3 <unknown>\n#8 0x558c7596e9ce <unknown>\n#9 0x558c7596fd51 <unknown>\n#10 0x558c75baa7b6 <unknown>\n#11 0x558c75bacd8e <unknown>\n#12 0x558c75bad58d <unknown>\n#13 0x558c75b93d7e <unknown>\n#14 0x558c75badc7c <unknown>\n#15 0x558c75b877a8 <unknown>\n#16 0x558c75bc8e58 <unknown>\n#17 0x558c75bc8ff8 <unknown>\n#18 0x558c75be36d8 <unknown>\n#19 0x7f537dd81609 <unknown>\n"
     ]
    }
   ],
   "source": [
    "#adding delay so that automation runs after the page has loaded entirely\n",
    "time.sleep(2)\n",
    "\n",
    "#setting up elements and finding their path\n",
    "username = driver.find_element(By.XPATH,\"//input[@name='session_key']\")\n",
    "password = driver.find_element(By.XPATH,\"//input[@name='session_password']\")\n",
    "\n",
    "username.send_keys(\"nisarg6502@gmail.com\")\n",
    "password.send_keys(\"Humnabad123\")\n",
    "\n",
    "time.sleep(2)\n",
    "\n",
    "submit = driver.find_element(By.XPATH,\"//button[@type='submit']\").click()\n",
    "\n",
    "#because new webpage will be opened\n",
    "time.sleep(2)"
   ]
  },
  {
   "cell_type": "code",
   "execution_count": 37,
   "id": "da583c4c",
   "metadata": {},
   "outputs": [],
   "source": [
    "driver.get(\"https://www.linkedin.com/search/results/people/?network=%5B%22F%22%5D&origin=FACETED_SEARCH&sid=Xk%2C\")\n",
    "time.sleep(2)\n",
    "\n",
    "#To find button element\n",
    "all_buttons = driver.find_elements(By.TAG_NAME, \"button\")\n",
    "#only select Message Buttons\n",
    "message_buttons = [btn for btn in all_buttons if btn.text == \"Message\"]\n",
    "\n",
    "message_buttons[0].click()\n",
    "time.sleep(2)\n",
    "\n",
    "#the div of the paragraph has to be clicked to get activated\n",
    "main_div=driver.find_element(By.XPATH, \"//div[starts-with(@class, 'msg-form__msg-content-container')]\")\n",
    "main_div.click()\n",
    "\n",
    "paragraphs = driver.find_elements(By.TAG_NAME, \"p\")\n",
    "paragraphs[-5].send_keys(\"Hello\")\n"
   ]
  },
  {
   "cell_type": "code",
   "execution_count": 34,
   "id": "c4690109",
   "metadata": {},
   "outputs": [
    {
     "name": "stdout",
     "output_type": "stream",
     "text": [
      "\n"
     ]
    }
   ],
   "source": [
    "# paragraphs = driver.find_elements(By.TAG_NAME, \"p\")\n",
    "\n",
    "# print(paragraphs[-5].text)\n",
    "\n",
    "# counter = 0\n",
    "\n",
    "# for p in paragraphs:\n",
    "#     print(counter)\n",
    "#     print(p.text)\n",
    "#     counter +=1"
   ]
  },
  {
   "cell_type": "code",
   "execution_count": null,
   "id": "25d3d196",
   "metadata": {},
   "outputs": [],
   "source": []
  }
 ],
 "metadata": {
  "kernelspec": {
   "display_name": "Python 3 (ipykernel)",
   "language": "python",
   "name": "python3"
  },
  "language_info": {
   "codemirror_mode": {
    "name": "ipython",
    "version": 3
   },
   "file_extension": ".py",
   "mimetype": "text/x-python",
   "name": "python",
   "nbconvert_exporter": "python",
   "pygments_lexer": "ipython3",
   "version": "3.8.10"
  }
 },
 "nbformat": 4,
 "nbformat_minor": 5
}
